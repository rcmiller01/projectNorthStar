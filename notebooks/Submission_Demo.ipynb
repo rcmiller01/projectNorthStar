{
 "cells": [
  {
   "cell_type": "markdown",
   "id": "be7c31be",
   "metadata": {},
   "source": [
    "# Submission Demo Notebook\n",
    "\n",
    "End-to-end demonstration of NorthStar triage & analytics pipeline.\n",
    "\n",
    "Phases covered: ingest (multimodal), embeddings refresh, freeform + ticket triage, dashboard views creation.\n",
    "\n",
    "This notebook is idempotent: safe to re-run; it uses minimal sample data.\n",
    "\n",
    "## 1. Environment Setup\n",
    "Set required environment variables (replace with your project)."
   ]
  },
  {
   "cell_type": "code",
   "execution_count": null,
   "id": "6412cd32",
   "metadata": {},
   "outputs": [],
   "source": [
    "import os, json, textwrap, pathlib, sys\n",
    "print('Python', sys.version)\n",
    "os.environ.setdefault('PROJECT_ID','bq_project_northstar')\n",
    "os.environ.setdefault('DATASET','demo_ai')\n",
    "os.environ.setdefault('LOCATION','US')\n",
    "os.environ['BIGQUERY_REAL']='1'\n",
    "for k in ['PROJECT_ID','DATASET','LOCATION','BIGQUERY_REAL']:\n",
    "    print(k,'=',os.environ.get(k))"
   ]
  },
  {
   "cell_type": "markdown",
   "id": "4e1febf2",
   "metadata": {},
   "source": [
    "## 2. Install Dependencies\n",
    "If running in a constrained environment (e.g., Kaggle), you can trim extras.\n",
    "\n",
    "Uncomment and run if needed."
   ]
  },
  {
   "cell_type": "code",
   "execution_count": null,
   "id": "553f1f9f",
   "metadata": {},
   "outputs": [],
   "source": [
    "# !pip install -e .[bigquery,ingest,dashboard] -q"
   ]
  },
  {
   "cell_type": "markdown",
   "id": "a933af46",
   "metadata": {},
   "source": [
    "## 3. Preflight Models (optional)\n",
    "Validates remote model presence if environment variables (BQ_EMBED_MODEL/BQ_GEN_MODEL) are set."
   ]
  },
  {
   "cell_type": "code",
   "execution_count": null,
   "id": "fc631b9c",
   "metadata": {},
   "outputs": [],
   "source": [
    "!python scripts/check_bq_resources.py --models-only || echo 'Preflight models check failed (ensure models exist or create them).'"
   ]
  },
  {
   "cell_type": "markdown",
   "id": "14652bc2",
   "metadata": {},
   "source": [
    "## 4. Create Views\n",
    "Idempotent creation of analytics views."
   ]
  },
  {
   "cell_type": "code",
   "execution_count": null,
   "id": "a6e18ad1",
   "metadata": {},
   "outputs": [],
   "source": [
    "!python scripts/create_views.py"
   ]
  },
  {
   "cell_type": "markdown",
   "id": "ac48eb10",
   "metadata": {},
   "source": [
    "## 5. Ingest Samples\n",
    "Processes sample files (logs / pdf / images) and refreshes embeddings in a loop."
   ]
  },
  {
   "cell_type": "code",
   "execution_count": null,
   "id": "a3063c67",
   "metadata": {},
   "outputs": [],
   "source": [
    "!python -m core.cli ingest --path samples --type auto --max-tokens 512 --refresh-loop"
   ]
  },
  {
   "cell_type": "markdown",
   "id": "9983a2a3",
   "metadata": {},
   "source": [
    "## 6. Freeform Triage\n",
    "Generates a playbook for an ad-hoc issue."
   ]
  },
  {
   "cell_type": "code",
   "execution_count": null,
   "id": "7414728b",
   "metadata": {},
   "outputs": [],
   "source": [
    "!python -m core.cli triage --title '500 after reset' --body 'android camera' --severity P1 --out out/nb_freeform.md"
   ]
  },
  {
   "cell_type": "markdown",
   "id": "4acb2953",
   "metadata": {},
   "source": [
    "## 7. Ticket Triage\n",
    "Attempts to triage DEMO-1 if present (non-fatal if absent)."
   ]
  },
  {
   "cell_type": "code",
   "execution_count": null,
   "id": "a5439b2d",
   "metadata": {},
   "outputs": [],
   "source": [
    "import subprocess, shlex, os, pathlib\n",
    "ticket_out = pathlib.Path('out/nb_ticket.md')\n",
    "cmd = 'python -m core.cli triage --ticket-id DEMO-1 --severity P1 --out out/nb_ticket.md --max-comments 3'\n",
    "res = subprocess.run(shlex.split(cmd), capture_output=True, text=True)\n",
    "print(res.stdout)\n",
    "if res.returncode!=0:\n",
    "    print('Ticket triage skipped or failed (OK for demo).')"
   ]
  },
  {
   "cell_type": "markdown",
   "id": "e115b663",
   "metadata": {},
   "source": [
    "## 8. Display Outputs\n",
    "Show first 40 lines of generated playbooks."
   ]
  },
  {
   "cell_type": "code",
   "execution_count": null,
   "id": "d9d3d5c6",
   "metadata": {},
   "outputs": [],
   "source": [
    "from pathlib import Path\n",
    "def head(p: str, n=40):\n",
    "    path=Path(p)\n",
    "    if not path.exists():\n",
    "        return f'Missing: {p}'\n",
    "    return '\n",
    "'.join(path.read_text(encoding='utf-8').splitlines()[:n])\n",
    "print('--- Freeform ---')\n",
    "print(head('out/nb_freeform.md'))\n",
    "print('\n",
    "--- Ticket ---')\n",
    "print(head('out/nb_ticket.md'))"
   ]
  },
  {
   "cell_type": "markdown",
   "id": "515c871e",
   "metadata": {},
   "source": [
    "## 9. Dashboard Note\n",
    "Run locally (not inside hosted notebook) to explore analytics:\n",
    "\n",
    "```bash\n",
    "make dashboard\n",
    "```\n"
   ]
  },
  {
   "cell_type": "markdown",
   "id": "d3b564c4",
   "metadata": {},
   "source": [
    "## 10. Safety\n",
    "Playbooks enforce basic verifier checks; snippets truncated & masked; no destructive actions executed."
   ]
  }
 ],
 "metadata": {
  "language_info": {
   "name": "python"
  }
 },
 "nbformat": 4,
 "nbformat_minor": 5
}
